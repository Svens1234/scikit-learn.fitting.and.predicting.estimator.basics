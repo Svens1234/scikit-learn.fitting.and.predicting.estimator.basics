{
 "cells": [
  {
   "cell_type": "code",
   "execution_count": 1,
   "id": "3c59e120",
   "metadata": {},
   "outputs": [],
   "source": [
    "from sklearn.ensemble import RandomForestClassifier"
   ]
  },
  {
   "cell_type": "code",
   "execution_count": 2,
   "id": "1f6075d3",
   "metadata": {},
   "outputs": [],
   "source": [
    "clf = RandomForestClassifier(random_state=0)"
   ]
  },
  {
   "cell_type": "code",
   "execution_count": 3,
   "id": "35f89f54",
   "metadata": {},
   "outputs": [],
   "source": [
    "X = [[ 1,  2,  3],  # 2 образца, 3 признака\n",
    "     [11, 12, 13]]"
   ]
  },
  {
   "cell_type": "code",
   "execution_count": 4,
   "id": "42deed5b",
   "metadata": {},
   "outputs": [],
   "source": [
    "y = [0, 1]   # классы каждого образца"
   ]
  },
  {
   "cell_type": "code",
   "execution_count": 5,
   "id": "9b9d9aa0",
   "metadata": {},
   "outputs": [
    {
     "data": {
      "text/plain": [
       "RandomForestClassifier(random_state=0)"
      ]
     },
     "execution_count": 5,
     "metadata": {},
     "output_type": "execute_result"
    }
   ],
   "source": [
    "clf.fit(X, y)"
   ]
  },
  {
   "cell_type": "code",
   "execution_count": null,
   "id": "6770935f",
   "metadata": {},
   "outputs": [],
   "source": []
  }
 ],
 "metadata": {
  "kernelspec": {
   "display_name": "Python 3 (ipykernel)",
   "language": "python",
   "name": "python3"
  },
  "language_info": {
   "codemirror_mode": {
    "name": "ipython",
    "version": 3
   },
   "file_extension": ".py",
   "mimetype": "text/x-python",
   "name": "python",
   "nbconvert_exporter": "python",
   "pygments_lexer": "ipython3",
   "version": "3.8.7"
  }
 },
 "nbformat": 4,
 "nbformat_minor": 5
}
